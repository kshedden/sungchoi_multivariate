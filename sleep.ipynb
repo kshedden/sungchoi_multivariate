{
 "cells": [
  {
   "cell_type": "code",
   "execution_count": null,
   "id": "b315d099",
   "metadata": {},
   "outputs": [],
   "source": [
    "import numpy as np\n",
    "import matplotlib\n",
    "import matplotlib.pyplot as plt\n",
    "from statsmodels.regression.dimred import CORE"
   ]
  },
  {
   "cell_type": "markdown",
   "id": "6d7006cd",
   "metadata": {},
   "source": [
    "Simulate data, replace this with the actual data."
   ]
  },
  {
   "cell_type": "code",
   "execution_count": null,
   "id": "6662b76a",
   "metadata": {},
   "outputs": [],
   "source": [
    "n_person = 27\n",
    "n_day = np.random.poisson(100, n_person)\n",
    "p = 10\n",
    "n = np.sum(n_day)\n",
    "person = np.concatenate([i*np.ones(k) for i,k in enumerate(n_day)]).astype(int)\n",
    "day = np.concatenate([np.arange(k) for k in n_day]).astype(int)\n",
    "C1r = np.random.normal(size=(p, p))\n",
    "C1 = np.dot(C1r.T, C1r)\n",
    "C2r = np.random.normal(size=(p, p))\n",
    "C2 = np.dot(C2r.T, C2r)\n",
    "person_effects = np.dot(np.random.normal(size=(n_person, p)), C1r)\n",
    "person_effects = person_effects[person, :]\n",
    "day_effects = np.dot(np.random.normal(size=(n, p)), C2r)\n",
    "sleep = person_effects + day_effects"
   ]
  },
  {
   "cell_type": "markdown",
   "id": "f80fd37d",
   "metadata": {},
   "source": [
    "# MANOVA"
   ]
  },
  {
   "cell_type": "code",
   "execution_count": null,
   "id": "8579cb4c",
   "metadata": {},
   "outputs": [],
   "source": [
    "def manova1(X, grp, center=True):\n",
    "    \"\"\"\n",
    "    Run MANOVA on the data in X.\n",
    "    \"\"\"\n",
    "    if center:\n",
    "        X = X - X.mean(0)\n",
    "    dg = np.diff(grp)\n",
    "    assert np.all(dg >= 0) # grp must be sorted\n",
    "    ii = np.flatnonzero(dg > 0) + 1\n",
    "    x = np.split(X, ii)\n",
    "    M = np.stack([z.mean(0) for z in x])\n",
    "    w = np.asarray([z.shape[0] for z in x])\n",
    "    Mw = np.sqrt(w)[:, None] * M\n",
    "    H = np.dot(Mw.T, Mw)\n",
    "    E = np.dot(X.T, X) - H\n",
    "    R = np.linalg.solve(E, H)\n",
    "    ee, _ = np.linalg.eig(R)\n",
    "    ee = np.sort(ee)[::-1]\n",
    "    pillai = np.sum(ee / (1 + ee))\n",
    "    lawley = np.sum(ee)\n",
    "    wilks = np.prod(1 / (1 + ee))\n",
    "    roy = ee[0] / (1 + ee[0])\n",
    "    return H, E, ee, (pillai, lawley, wilks, roy)"
   ]
  },
  {
   "cell_type": "code",
   "execution_count": null,
   "id": "aa37dd68",
   "metadata": {},
   "outputs": [],
   "source": [
    "def manova(X, grp, nrep=1000):\n",
    "    \"\"\"\n",
    "    Run MANOVA on the data in X, using randomization to calibrate the statistics.\n",
    "    \"\"\"\n",
    "    n = X.shape[0]\n",
    "    X0 = X - X.mean(0)\n",
    "    H, E, ee, stats = manova1(X0, grp)\n",
    "    stats0 = np.empty((nrep, 4))\n",
    "    for i in range(nrep):\n",
    "        ii = np.random.permutation(n)\n",
    "        _, _, ee0, s = manova1(X[ii, :], grp, center=False)\n",
    "        stats0[i, :] = s\n",
    "    return H, E, ee, stats, stats0"
   ]
  },
  {
   "cell_type": "markdown",
   "id": "02922d07",
   "metadata": {},
   "source": [
    "Transform the MANOVA summary statistics to make them more interpretable."
   ]
  },
  {
   "cell_type": "code",
   "execution_count": null,
   "id": "b5fc6813",
   "metadata": {},
   "outputs": [],
   "source": [
    "def xstat_manova(stats, stats0, p):\n",
    "    stats = np.copy(stats)\n",
    "    stats0 = np.copy(stats0)\n",
    "    # Pillai becomes the mean PVE\n",
    "    stats[0] /= p\n",
    "    stats0[:, 0] /= p\n",
    "    # Lawley becomes the mean SNR\n",
    "    stats[1] /= p\n",
    "    stats0[:, 1] /= p\n",
    "    # Wilks becomes the geometric mean of 1 - PVE\n",
    "    stats[2] = np.power(stats[2], 1/p)\n",
    "    stats0[:, 2] = np.power(stats0[:, 2], 1/p)\n",
    "    # Not sure what to do with this...\n",
    "    stats[3] = np.power(stats[3], 1/p)\n",
    "    stats0[:, 3] = np.power(stats0[:, 3], 1/p)\n",
    "    return stats, stats0"
   ]
  },
  {
   "cell_type": "markdown",
   "id": "b8c64267",
   "metadata": {},
   "source": []
  },
  {
   "cell_type": "code",
   "execution_count": null,
   "id": "3b7b1c43",
   "metadata": {},
   "outputs": [],
   "source": [
    "H, E, ee, stats, stats0 = manova(sleep, person)\n",
    "\n",
    "statsx, stats0x = xstat_manova(stats, stats0, p)\n",
    "\n",
    "print(ee)\n",
    "print(statsx)\n",
    "\n",
    "for (k, ti) in enumerate([\"Pillai\", \"Lawley\", \"Wilks\", \"Roy\"]):\n",
    "    plt.hist(stats0x[:, k], bins=30, color=\"lightblue\")\n",
    "    plt.axvline(statsx[k], color=\"red\")\n",
    "    plt.title(ti)\n",
    "    plt.show()"
   ]
  },
  {
   "cell_type": "markdown",
   "id": "b1d15871",
   "metadata": {},
   "source": [
    "# PCA/Biplots"
   ]
  },
  {
   "cell_type": "code",
   "execution_count": null,
   "id": "72e9a5ae",
   "metadata": {},
   "outputs": [],
   "source": [
    "def biplot(X, j=0, k=1):\n",
    "    X = np.copy(X)\n",
    "    X -= X.mean()\n",
    "    X -= X.mean(0)\n",
    "    X -= X.mean(1)[:, None]\n",
    "    u, s, vt = np.linalg.svd(X, 0)\n",
    "    v = vt.T\n",
    "    u *= (s**0.5)\n",
    "    v *= (s**0.5)\n",
    "    f = np.sqrt(X.shape[0] / X.shape[1]) # May need to adjust this\n",
    "    v /= f\n",
    "    plt.clf()\n",
    "    plt.plot(u[:, j], u[:, k], \"o\", color=\"black\", alpha=0.1)\n",
    "    for i in range(v.shape[0]):\n",
    "        plt.annotate(\"v%d\" % i, xy=(0, 0), xytext=(v[i, j], v[i, k]), \n",
    "                     arrowprops=dict(facecolor='black', arrowstyle=\"<-\"))\n",
    "    plt.xlabel(\"Component %d\" % j)\n",
    "    plt.ylabel(\"Component %d\" % k)\n",
    "        \n",
    "biplot(sleep)"
   ]
  },
  {
   "cell_type": "markdown",
   "id": "42326c31",
   "metadata": {},
   "source": [
    "# CORE"
   ]
  },
  {
   "cell_type": "code",
   "execution_count": null,
   "id": "9690ad1d",
   "metadata": {},
   "outputs": [],
   "source": [
    "tab20 = matplotlib.cm.get_cmap(\"tab20\").colors"
   ]
  },
  {
   "cell_type": "code",
   "execution_count": null,
   "id": "f2cd3853",
   "metadata": {},
   "outputs": [],
   "source": [
    "m = CORE(person, sleep, 2)\n",
    "r = m.fit(maxiter=1000)\n",
    "qq = r.params\n",
    "cc = [np.dot(qq.T, np.dot(c, qq)) for c in m.covs]\n",
    "ci = [np.linalg.eigh(c) for c in cc]\n",
    "\n",
    "plt.clf()\n",
    "plt.grid(True)\n",
    "plt.xlim(-3, 3)\n",
    "plt.ylim(-3, 3)\n",
    "for j,(a, b) in enumerate(ci):\n",
    "    plt.plot(a[0]*np.r_[-b[0, 0], b[0, 0]], a[0]*np.r_[-b[1, 0], b[1, 0]], \":\", color=tab20[j % 20])\n",
    "    plt.plot(a[1]*np.r_[-b[0, 1], b[0, 1]], a[1]*np.r_[-b[1, 1], b[1, 1]], \"-\", color=tab20[j % 20])"
   ]
  },
  {
   "cell_type": "code",
   "execution_count": null,
   "id": "379f0f65",
   "metadata": {},
   "outputs": [],
   "source": []
  }
 ],
 "metadata": {
  "kernelspec": {
   "display_name": "Python 3 (ipykernel)",
   "language": "python",
   "name": "python3"
  },
  "language_info": {
   "codemirror_mode": {
    "name": "ipython",
    "version": 3
   },
   "file_extension": ".py",
   "mimetype": "text/x-python",
   "name": "python",
   "nbconvert_exporter": "python",
   "pygments_lexer": "ipython3",
   "version": "3.10.9"
  }
 },
 "nbformat": 4,
 "nbformat_minor": 5
}
