{
 "cells": [
  {
   "cell_type": "code",
   "execution_count": null,
   "id": "b315d099",
   "metadata": {},
   "outputs": [],
   "source": [
    "import numpy as np\n",
    "import pandas as pd\n",
    "import matplotlib\n",
    "import matplotlib.pyplot as plt\n",
    "import seaborn as sns\n",
    "from statsmodels.regression.dimred import CORE\n",
    "from scipy.linalg import eigh\n",
    "from matplotlib.patches import Ellipse\n",
    "from scipy.stats.distributions import chi2\n",
    "from statsmodels.nonparametric.smoothers_lowess import lowess\n",
    "\n",
    "import matplotlib.pyplot as plt\n",
    "plt.rcParams['figure.figsize'] = [10, 10]"
   ]
  },
  {
   "cell_type": "code",
   "execution_count": null,
   "id": "34e22d1e",
   "metadata": {},
   "outputs": [],
   "source": [
    "df = pd.read_csv(\"/home/kshedden/data/Sung_Choi/student_wellness/student_wellness_sleep_details.csv.gz\",\n",
    "                 parse_dates=[\"SLEEP_DATE\", \"SLEEP_START_DATE\", \"SLEEP_END_DATE\"])"
   ]
  },
  {
   "cell_type": "code",
   "execution_count": null,
   "id": "43220c59",
   "metadata": {},
   "outputs": [],
   "source": [
    "df.dtypes"
   ]
  },
  {
   "cell_type": "markdown",
   "id": "79676d32",
   "metadata": {},
   "source": [
    "Keep only the sleep-relevant variables.  Convert the sleep start time and day of year into polar coordinates."
   ]
  },
  {
   "cell_type": "code",
   "execution_count": null,
   "id": "80d9d016",
   "metadata": {},
   "outputs": [],
   "source": [
    "sleep_vars = ['ASLEEP_VALUE', 'INBED_VALUE', 'DEEP_MIN', 'DEEP_COUNT', 'LIGHT_MIN', 'LIGHT_COUNT', \n",
    "              'REM_MIN', 'REM_COUNT', 'WAKE_MIN', 'WAKE_COUNT', 'ASLEEP_MIN', 'ASLEEP_COUNT', \n",
    "              'AWAKE_COUNT', 'AWAKE_MIN', 'RESTLESS_COUNT', 'RESTLESS_MIN']\n",
    "v = df[sleep_vars].isna().sum(0)\n",
    "v = v[v < 500].index.tolist()\n",
    "vv = [\"STUDY_PRTCPT_ID\", \"SLEEP_START_DATE\", \"SLEEP_END_DATE\", \"SLEEP_DATE\"] + v\n",
    "dx = df[vv].copy()\n",
    "dx[\"YEARDAY\"] = dx[\"SLEEP_DATE\"].dt.dayofyear\n",
    "dx[\"DAYOFWEEK\"] = dx[\"SLEEP_DATE\"].dt.dayofweek\n",
    "dx[\"SLEEP_START_TIME\"] = (dx[\"SLEEP_START_DATE\"] - dx[\"SLEEP_START_DATE\"].dt.normalize()) / pd.Timedelta(hours=1)\n",
    "dx[\"SLEEP_END_TIME\"] = (dx[\"SLEEP_END_DATE\"] - dx[\"SLEEP_END_DATE\"].dt.normalize()) / pd.Timedelta(hours=1)\n",
    "dx[\"SLEEP_START_SIN\"] = np.sin(2*np.pi*dx[\"SLEEP_START_TIME\"]/24)\n",
    "dx[\"SLEEP_START_COS\"] = np.cos(2*np.pi*dx[\"SLEEP_START_TIME\"]/24)\n",
    "dx[\"SLEEP_END_SIN\"] = np.sin(2*np.pi*dx[\"SLEEP_END_TIME\"]/24)\n",
    "dx[\"SLEEP_END_COS\"] = np.cos(2*np.pi*dx[\"SLEEP_END_TIME\"]/24)\n",
    "dx[\"YEARDAY_SIN\"] = np.sin(2*np.pi*dx[\"YEARDAY\"]/366)\n",
    "dx[\"YEARDAY_COS\"] = np.cos(2*np.pi*dx[\"YEARDAY\"]/366)\n",
    "dx[\"STUDYDAY\"] = dx[\"YEARDAY\"] - dx.groupby(\"STUDY_PRTCPT_ID\")[\"YEARDAY\"].transform(np.min)\n",
    "dx = dx.drop(columns=[\"SLEEP_START_DATE\", \"SLEEP_END_DATE\", \"SLEEP_START_TIME\", \"SLEEP_END_TIME\", \"SLEEP_DATE\"])\n",
    "dx = dx.dropna()\n",
    "dx.columns"
   ]
  },
  {
   "cell_type": "code",
   "execution_count": null,
   "id": "3a25c421",
   "metadata": {},
   "outputs": [],
   "source": [
    "plt.clf()\n",
    "plt.title(\"YEARDAY\")\n",
    "plt.xlabel(\"YEARDAY_COS\")\n",
    "plt.ylabel(\"YEARDAY_SIN\")\n",
    "plt.grid(True)\n",
    "plt.xlim(-1.5, 1.5)\n",
    "plt.ylim(-1.5, 1.5)\n",
    "e1 = 0.1*np.random.normal(size=dx.shape[0])\n",
    "e2 = 0.1*np.random.normal(size=dx.shape[0])\n",
    "plt.plot(dx[\"YEARDAY_COS\"]+e1, dx[\"YEARDAY_SIN\"]+e2, \"o\", alpha=0.1)\n",
    "for i in range(12):\n",
    "    x = np.cos(2*np.pi*i*30.5/366)\n",
    "    y = np.sin(2*np.pi*i*30.5/366)\n",
    "    plt.text(x, y, str(i+1))\n",
    "plt.show()"
   ]
  },
  {
   "cell_type": "code",
   "execution_count": null,
   "id": "656eb34d",
   "metadata": {},
   "outputs": [],
   "source": [
    "def plot_clock(vn):\n",
    "    plt.clf()\n",
    "    plt.title(vn)\n",
    "    plt.xlabel(\"%s_COS\" % vn)\n",
    "    plt.ylabel(\"%s_SIN\" % vn)\n",
    "    plt.grid(True)\n",
    "    plt.xlim(-1.5, 1.5)\n",
    "    plt.ylim(-1.5, 1.5)\n",
    "    e1 = 0.1*np.random.normal(size=dx.shape[0])\n",
    "    e2 = 0.1*np.random.normal(size=dx.shape[0])\n",
    "    plt.plot(dx[\"%s_COS\" % vn]+e1, dx[\"%s_SIN\" % vn]+e2, \"o\", alpha=0.1)\n",
    "    for i in range(24):\n",
    "        x = np.cos(2*np.pi*i/24)\n",
    "        y = np.sin(2*np.pi*i/24)\n",
    "        plt.text(x, y, str(i+1))\n",
    "    plt.show()\n",
    "    \n",
    "plot_clock(\"SLEEP_START\")\n",
    "plot_clock(\"SLEEP_END\")"
   ]
  },
  {
   "cell_type": "markdown",
   "id": "650851d5",
   "metadata": {},
   "source": [
    "Standardize the sleep variables."
   ]
  },
  {
   "cell_type": "code",
   "execution_count": null,
   "id": "b2fe2f34",
   "metadata": {},
   "outputs": [],
   "source": [
    "exclude = [\"STUDY_PRTCPT_ID\", \"STUDYDAY\", \"YEARDAY\", \"DAYOFWEEK\"]\n",
    "va = [x for x in dx.columns if x not in exclude]\n",
    "print(va)\n",
    "dx[va] = dx[va] - dx[va].mean(0)\n",
    "dx[va] = dx[va] / dx[va].std(0)\n",
    "dx[\"STUDY_PRTCPT_ID\"].value_counts()"
   ]
  },
  {
   "cell_type": "code",
   "execution_count": null,
   "id": "940551ba",
   "metadata": {},
   "outputs": [],
   "source": [
    "v = [x for x in va if not (x.endswith(\"_SIN\") or x.endswith(\"_COS\"))]\n",
    "X = dx[v].copy()\n",
    "X0 = X - X.mean(0)\n",
    "C = X0.corr()\n",
    "a, b = eigh(C)\n",
    "ii = np.argmax(a)\n",
    "jj = np.argsort(b[:, ii])\n",
    "X0 = X0.iloc[:, jj]\n",
    "sns.heatmap(X0.corr())"
   ]
  },
  {
   "cell_type": "markdown",
   "id": "92a19048",
   "metadata": {},
   "source": [
    "Plot histograms of each sleep variable."
   ]
  },
  {
   "cell_type": "code",
   "execution_count": null,
   "id": "a45011ce",
   "metadata": {},
   "outputs": [],
   "source": [
    "for v in va + [\"YEARDAY\"]:\n",
    "    plt.hist(dx[v], bins=15, alpha=0.3)\n",
    "    plt.title(v)\n",
    "    plt.show()"
   ]
  },
  {
   "cell_type": "markdown",
   "id": "61d8dbc1",
   "metadata": {},
   "source": [
    "# PCA/biplots"
   ]
  },
  {
   "cell_type": "code",
   "execution_count": null,
   "id": "2a7319eb",
   "metadata": {},
   "outputs": [],
   "source": [
    "def plot_eigs(eigs):\n",
    "    jj = np.arange(1, len(eigs) + 1)\n",
    "    ii = np.flatnonzero(eigs >= 1e-10)\n",
    "    plt.clf()\n",
    "    plt.grid(True)\n",
    "    plt.plot(np.log(jj[ii]), np.log(eigs[ii]), \"-o\")\n",
    "    plt.ylabel(\"Log eigenvalue\", size=15)\n",
    "    plt.xlabel(\"Log position\", size=15)\n",
    "    plt.show()"
   ]
  },
  {
   "cell_type": "code",
   "execution_count": null,
   "id": "472e2ed7",
   "metadata": {},
   "outputs": [],
   "source": [
    "def varimax(X, eps=1e-05, maxiter=1000):\n",
    "    G = X.copy()\n",
    "    m, p = G.shape\n",
    "    Q = np.eye(p)\n",
    "    if p < 2: \n",
    "        return G, Q\n",
    "    d = 0.0\n",
    "    for i in range(maxiter):\n",
    "        z = np.dot(G, Q)\n",
    "        cs = (z**2).sum(0)\n",
    "        B = np.dot(G.T, z**3 - z * (cs / m))\n",
    "        u, s, vt = np.linalg.svd(B, 0)\n",
    "        Q = np.dot(u, vt)\n",
    "        dlast = d\n",
    "        d = s.sum()\n",
    "        if d < dlast * (1 + eps): \n",
    "            break\n",
    "            \n",
    "    G = np.dot(G, Q)\n",
    "    return G, Q"
   ]
  },
  {
   "cell_type": "code",
   "execution_count": null,
   "id": "c31906e6",
   "metadata": {},
   "outputs": [],
   "source": [
    "def ellipse_plot(U, idx, j0, j1):\n",
    "    r2 = chi2(2).ppf(0.95)\n",
    "    rr = np.sqrt(r2)\n",
    "    dx = pd.DataFrame({\"u0\": U[:, 0], \"u1\": U[:, 1], \"id\": idx})\n",
    "    plt.clf()\n",
    "    plt.figure(figsize=(10, 10))\n",
    "    plt.grid(True)\n",
    "    plt.plot(dx[\"u0\"], dx[\"u1\"], \"o\", color=\"black\", alpha=0.05)\n",
    "    for (ky,dg) in dx.groupby(\"id\"):\n",
    "        if dg.shape[0] > 10:\n",
    "            m0, m1 = dg[\"u0\"].mean(), dg[\"u1\"].mean()\n",
    "            C = np.cov(dg[\"u0\"], dg[\"u1\"])\n",
    "            a, b = eigh(C)\n",
    "            plt.plot([m0], [m1], \"o\", color=\"blue\", ms=8, alpha=0.2)\n",
    "            ang = np.arctan2(b[1, 1], b[0, 1])*360/(2*np.pi)\n",
    "            E = Ellipse(xy=[m0,m1], width=rr*np.sqrt(a[1]), height=rr*np.sqrt(a[0]), fc=\"none\", ec=\"black\", angle=ang)\n",
    "            plt.gca().add_artist(E)\n",
    "    plt.xlabel(\"Component %d\" % j0, size=17)\n",
    "    plt.ylabel(\"Component %d\" % j1, size=17)\n",
    "    plt.show()"
   ]
  },
  {
   "cell_type": "code",
   "execution_count": null,
   "id": "970fd91f",
   "metadata": {},
   "outputs": [],
   "source": [
    "def biplot(dx, va, j=0, k=1, d=5, rotate=False, scree=False, ellipses=False):\n",
    "    assert d > max(j, k)\n",
    "    dx = dx.copy()\n",
    "    X = np.asarray(dx[va])\n",
    "    n, p = X.shape\n",
    "    X -= X.mean()\n",
    "    X -= X.mean(0)\n",
    "    u, s, vt = np.linalg.svd(X, 0)\n",
    "    v = vt.T\n",
    "    if scree:\n",
    "        plot_eigs(s)\n",
    "    uu = u[:, 0:d]\n",
    "    vv = v[:, 0:d]\n",
    "    ss = s[0:d]\n",
    "    if rotate:\n",
    "        uu, Ru = varimax(uu)\n",
    "        uu *= np.sqrt(n)\n",
    "        vv, Rv = varimax(vv)\n",
    "        vv *= np.sqrt(p)\n",
    "        B = np.dot(Ru.T * ss, Rv) / np.sqrt(n*p)\n",
    "    else:\n",
    "        uu *= (ss**0.5)\n",
    "        vv *= (ss**0.5)\n",
    "        B = np.eye(d)\n",
    "        \n",
    "    ff = np.sqrt(X.shape[0] / X.shape[1]) # May need to adjust this\n",
    "    v /= ff\n",
    "    plt.clf()\n",
    "    plt.figure(figsize=(10, 10))\n",
    "    plt.grid(True)\n",
    "    plt.plot(uu[:, j], uu[:, k], \"o\", color=\"black\", alpha=0.05)\n",
    "    for i in range(v.shape[0]):\n",
    "        plt.annotate(va[i], xy=(0, 0), xytext=(vv[i, j], vv[i, k]), \n",
    "                     arrowprops=dict(color='orange', arrowstyle=\"<-\"), color=\"purple\", size=9)\n",
    "    plt.xlabel(\"Component %d\" % j)\n",
    "    plt.ylabel(\"Component %d\" % k)\n",
    "    plt.show()\n",
    "    \n",
    "    if ellipses:\n",
    "        ellipse_plot(uu[:, [j, k]], dx[\"STUDY_PRTCPT_ID\"], j,k)\n",
    "        \n",
    "biplot(dx, va, 0, 1, d=5, rotate=False, scree=True, ellipses=True)\n",
    "biplot(dx, va, 2, 3, d=5, rotate=False, ellipses=True)\n",
    "biplot(dx, va, 0, 1, d=5, rotate=True, ellipses=True)\n",
    "biplot(dx, va, 2, 3, d=5, rotate=True, ellipses=True)"
   ]
  },
  {
   "cell_type": "markdown",
   "id": "f80fd37d",
   "metadata": {},
   "source": [
    "# MANOVA\n",
    "\n",
    "Use multivariate analysis of variance (MANOVA) to understand the between-subject and within-subject differences."
   ]
  },
  {
   "cell_type": "code",
   "execution_count": null,
   "id": "8579cb4c",
   "metadata": {},
   "outputs": [],
   "source": [
    "def manova1(dx, va, grp):\n",
    "    \"\"\"\n",
    "    Run MANOVA on the data in dx[va], which have been centered.  The groups are\n",
    "    defined by the column dx[grp].\n",
    "    \n",
    "    Returns:\n",
    "    - H : Scaled estimate of Cov E[X|g]\n",
    "    - E : Scaled estimate of E Cov[X|g]\n",
    "    - ee : eigenvalues of E^-1 H\n",
    "    - B : eigenvectors of E^-1 H\n",
    "    - (pillai, trace, lawley, roy) : fit statistics\n",
    "    \"\"\"\n",
    "    dg = dx.groupby(grp)[va]\n",
    "    X = dx[va].values\n",
    "    w = dg.size()\n",
    "    M = dg.mean()\n",
    "    assert all(w.index == M.index)\n",
    "    w = w.values\n",
    "    M = M.values\n",
    "    Mw = np.sqrt(w)[:, None] * M\n",
    "    H = np.dot(Mw.T, Mw)\n",
    "    E = np.dot(X.T, X) - H\n",
    "    ee, B = eigh(H, E)\n",
    "    if ee.min() < 0:\n",
    "        raise ValueError(\"Negative eigenvalue in MANOVA\")\n",
    "    ii = np.argsort(-ee)\n",
    "    ee = ee[ii]\n",
    "    B = B[:, ii]\n",
    "    pillai = np.sum(ee / (1 + ee))\n",
    "    lawley = np.sum(ee)\n",
    "    wilks = np.prod(1 / (1 + ee))\n",
    "    roy = ee[0] / (1 + ee[0])\n",
    "    return H, E, ee, B, (pillai, lawley, wilks, roy)"
   ]
  },
  {
   "cell_type": "code",
   "execution_count": null,
   "id": "aa37dd68",
   "metadata": {},
   "outputs": [],
   "source": [
    "def manova(dx, va, grp, nrep=1000, center=True):\n",
    "    \"\"\"\n",
    "    Run MANOVA on the data in X, using randomization to calibrate the statistics.\n",
    "    \n",
    "    Returns:\n",
    "    - H : Scaled estimate of Cov E[X|g]\n",
    "    - E : Scaled estimate of E Cov[X|g]\n",
    "    - ee : eigenvalues of E^-1 H\n",
    "    - B : eigenvectors of E^-1 H\n",
    "    - (pillai, trace, lawley, roy) : fit statistics\n",
    "    - stats0 : each row is a randomized realization of the fit statistics\n",
    "    \"\"\"\n",
    "    dx = dx.copy()\n",
    "    if center:\n",
    "        dx[va] = dx[va] - dx[va].mean(0)\n",
    "    X = dx[va].values\n",
    "    a, _ = np.linalg.eigh(np.cov(X.T))\n",
    "    if a.min() <= 1e-8:\n",
    "        raise ValueError(\"The marginal covariance matrix is singular\")\n",
    "    n = dx.shape[0]\n",
    "    H, E, ee, B, stats = manova1(dx, va, grp)\n",
    "    stats0 = np.empty((nrep, 4))\n",
    "    for i in range(nrep):\n",
    "        dx[grp] = dx[grp].sample(frac=1).values\n",
    "        _, _, _, _, s = manova1(dx, va, grp)\n",
    "        stats0[i, :] = s\n",
    "        \n",
    "    return X, H, E, ee, B, stats, stats0"
   ]
  },
  {
   "cell_type": "markdown",
   "id": "02922d07",
   "metadata": {},
   "source": [
    "Transform the MANOVA summary statistics to make them more interpretable."
   ]
  },
  {
   "cell_type": "code",
   "execution_count": null,
   "id": "b5fc6813",
   "metadata": {},
   "outputs": [],
   "source": [
    "def xstat_manova(stats, stats0, p):\n",
    "    stats = np.copy(stats)\n",
    "    stats0 = np.copy(stats0)\n",
    "    # Pillai becomes the mean PVE\n",
    "    stats[0] /= p\n",
    "    stats0[:, 0] /= p\n",
    "    # Lawley becomes the mean SNR\n",
    "    stats[1] /= p\n",
    "    stats0[:, 1] /= p\n",
    "    # Wilks becomes the geometric mean of 1 - PVE\n",
    "    stats[2] = np.power(stats[2], 1/p)\n",
    "    stats0[:, 2] = np.power(stats0[:, 2], 1/p)\n",
    "    # Not sure what to do with this...\n",
    "    stats[3] = np.power(stats[3], 1/p)\n",
    "    stats0[:, 3] = np.power(stats0[:, 3], 1/p)\n",
    "    return stats, stats0"
   ]
  },
  {
   "cell_type": "markdown",
   "id": "b8c64267",
   "metadata": {},
   "source": [
    "Run the MANOVA to assess inter-subject differences.  ASLEEP_VALUE is redundant so drop it here."
   ]
  },
  {
   "cell_type": "code",
   "execution_count": null,
   "id": "e46f46b5",
   "metadata": {},
   "outputs": [],
   "source": [
    "va1 = [x for x in va if x not in [\"ASLEEP_VALUE\", \"SLEEP_END_SIN\", \"SLEEP_END_COS\"]]\n",
    "X0, H, E, ee, B, stats, stats0 = manova(dx, va1, \"STUDY_PRTCPT_ID\")\n",
    "statsx, stats0x = xstat_manova(stats, stats0, len(va))"
   ]
  },
  {
   "cell_type": "markdown",
   "id": "c2195d34",
   "metadata": {},
   "source": [
    "Plot the summary statistics."
   ]
  },
  {
   "cell_type": "code",
   "execution_count": null,
   "id": "8475539b",
   "metadata": {},
   "outputs": [],
   "source": [
    "for (k, ti) in enumerate([\"Pillai (average PVE)\", \"Lawley (average SNR)\", \"Wilks (geom mean 1 - PVE)\", \"Roy\"]):\n",
    "    plt.hist(stats0x[:, k], bins=30, color=\"lightblue\")\n",
    "    plt.axvline(statsx[k], color=\"red\")\n",
    "    plt.title(ti)\n",
    "    plt.show()"
   ]
  },
  {
   "cell_type": "markdown",
   "id": "0530f707",
   "metadata": {},
   "source": [
    "Generate biplots to show how the MANOVA factors relate to the observed variables"
   ]
  },
  {
   "cell_type": "code",
   "execution_count": null,
   "id": "3b7b1c43",
   "metadata": {},
   "outputs": [],
   "source": [
    "def biplot(j0, j1, X0, B, ee, va, scree=False, ellipses=True):\n",
    "    scores = np.dot(X0, B[:, [j0, j1]])\n",
    "    if scree:\n",
    "        plt.clf()\n",
    "        plt.grid(True)\n",
    "        jj = np.arange(1, len(ee)+1)\n",
    "        plt.plot(np.log(jj), np.log(ee), \"-o\")\n",
    "        plt.xlabel(\"Log position\", size=17)\n",
    "        plt.ylabel(\"Log eigenvalue\", size=17)\n",
    "        plt.show()\n",
    "    plt.clf()\n",
    "    plt.figure(figsize=(10,10))\n",
    "    plt.grid(True)\n",
    "    plt.plot(scores[:, 0], scores[:, 1], \"o\", color=\"black\", alpha=0.05)\n",
    "    for i in range(B.shape[0]):\n",
    "        plt.annotate(va[i], xy=(0, 0), xytext=(B[i, j0], B[i, j1]), \n",
    "                     arrowprops=dict(color='orange', arrowstyle=\"<-\"), color=\"purple\", size=9)\n",
    "    plt.xlabel(\"Component %d\" % j0, size=17)\n",
    "    plt.ylabel(\"Component %d\" % j1, size=17)\n",
    "    plt.show()\n",
    "\n",
    "    if ellipses:\n",
    "        ellipse_plot(scores, dx[\"STUDY_PRTCPT_ID\"], j0, j1)\n",
    " \n",
    "biplot(0, 1, X0, B, ee, va1, scree=True, ellipses=True)\n",
    "biplot(2, 3, X0, B, ee, va1, ellipses=True)\n",
    "biplot(4, 5, X0, B, ee, va1, ellipses=True)"
   ]
  },
  {
   "cell_type": "markdown",
   "id": "1a185080",
   "metadata": {},
   "source": [
    "# Dimension reduction regression\n",
    "\n",
    "Use sliced inverse regression to understand the possible roles of day of week, and seasonality"
   ]
  },
  {
   "cell_type": "code",
   "execution_count": null,
   "id": "11701070",
   "metadata": {},
   "outputs": [],
   "source": [
    "def sir(dx, xv, yv):\n",
    "    dx = dx.copy()\n",
    "    dx[xv] = dx[xv] - dx[xv].mean(0)\n",
    "    C = dx[xv].cov()\n",
    "    a,_ = eigh(C)\n",
    "    if a.min() < 1e-10:\n",
    "        raise ValueError(\"Marginal covariance of predictors is singular\")\n",
    "    mn, wt = [], []\n",
    "    for (ky,dg) in dx.groupby(yv):\n",
    "        mn.append(dg[xv].mean(0))\n",
    "        wt.append(dg.shape[0])\n",
    "    M = np.stack(mn)\n",
    "    wt = np.asarray(wt)\n",
    "    wt = wt / wt.sum()\n",
    "    Mw = np.sqrt(wt)[:, None] * M\n",
    "    H = np.dot(Mw.T, Mw)    \n",
    "    a, b = eigh(H, C)\n",
    "    ii = np.argsort(-a)\n",
    "    a = a[ii]\n",
    "    b = b[:, ii]\n",
    "    b = pd.DataFrame(b, columns=[\"B%d\" % j for j in range(len(xv))], index=xv)\n",
    "    return b, a"
   ]
  },
  {
   "cell_type": "code",
   "execution_count": null,
   "id": "6258f703",
   "metadata": {},
   "outputs": [],
   "source": [
    "va2 = [x for x in va1 if x != \"INBED_VALUE\"]\n",
    "\n",
    "dirs, eigs = sir(dx, va2, \"DAYOFWEEK\")\n",
    "plot_eigs(eigs)\n",
    "\n",
    "dirs.iloc[:, 0:4]\n",
    "scores = np.dot(dx[va2], dirs.iloc[:, 0:3])\n",
    "\n",
    "dp = pd.DataFrame({\"DAYOFWEEK\": dx[\"DAYOFWEEK\"], \"score0\": scores[:, 0]})\n",
    "sns.boxplot(dp, x=\"DAYOFWEEK\", y=\"score0\")\n",
    "plt.ylim(-2, 2)\n",
    "dirs.iloc[:, 0:4]"
   ]
  },
  {
   "cell_type": "code",
   "execution_count": null,
   "id": "7b55e28d",
   "metadata": {},
   "outputs": [],
   "source": [
    "dx[\"YEARDAYu\"] = pd.qcut(dx[\"YEARDAY\"], 20)\n",
    "\n",
    "dirs, eigs = sir(dx, va2, \"YEARDAYu\")\n",
    "plot_eigs(eigs)\n",
    "\n",
    "scores = np.dot(dx[va2], dirs.iloc[:, 0:3])\n",
    "\n",
    "xy = lowess(scores[:, 0], dx[\"YEARDAY\"])\n",
    "\n",
    "plt.clf()\n",
    "plt.grid(True)\n",
    "plt.plot(dx[\"YEARDAY\"], scores[:, 0], \"o\", alpha=0.2)\n",
    "plt.plot(xy[:, 0], xy[:, 1], \"-\")\n",
    "plt.ylabel(\"SIR variate\")\n",
    "plt.xlabel(\"YEARDAY\")\n",
    "dirs.iloc[:, 0:4]"
   ]
  },
  {
   "cell_type": "markdown",
   "id": "abca31f1",
   "metadata": {},
   "source": [
    "# UMAP\n",
    "\n",
    "This is a very popular modern method but I'm not sure whether it will be useful for us.  It is worth a try."
   ]
  },
  {
   "cell_type": "code",
   "execution_count": null,
   "id": "c816d8ec",
   "metadata": {},
   "outputs": [],
   "source": [
    "import umap\n",
    "\n",
    "um = umap.UMAP(random_state=123)\n",
    "emb = um.fit_transform(dx[va1])\n",
    "emb -= emb.mean(0)\n",
    "emb /= emb.std(0)"
   ]
  },
  {
   "cell_type": "markdown",
   "id": "5e2852d1",
   "metadata": {},
   "source": [
    "Color the points by person"
   ]
  },
  {
   "cell_type": "code",
   "execution_count": null,
   "id": "a7b0c18d",
   "metadata": {},
   "outputs": [],
   "source": [
    "tab20 = matplotlib.colormaps[\"tab20\"].colors\n",
    "plt.clf()\n",
    "plt.grid(True)\n",
    "dp = pd.DataFrame({\"id\": dx[\"STUDY_PRTCPT_ID\"], \"emb0\": emb[:, 0], \"emb1\": emb[:, 1]})\n",
    "for j,(ky,dg) in enumerate(dp.groupby(\"id\")):\n",
    "    plt.plot(dg[\"emb0\"], dg[\"emb1\"], \"o\", alpha=0.5, color=tab20[j % 20])"
   ]
  },
  {
   "cell_type": "code",
   "execution_count": null,
   "id": "f3855c90",
   "metadata": {},
   "outputs": [],
   "source": [
    "plt.clf\n",
    "plt.figure(figsize=(12, 10))\n",
    "plt.grid(True)\n",
    "plt.plot(emb[:, 0], emb[:, 1], \"o\", color=\"black\", alpha=0.1)\n",
    "for v in va1:\n",
    "    cc = np.linalg.lstsq(emb, dx[v], rcond=None)[0]\n",
    "    plt.annotate(v, xy=(0, 0), xytext=cc, \n",
    "                 arrowprops=dict(color='orange', arrowstyle=\"<-\"), color=\"purple\", size=9)\n",
    "plt.show()"
   ]
  },
  {
   "cell_type": "code",
   "execution_count": null,
   "id": "69231db3",
   "metadata": {},
   "outputs": [],
   "source": [
    "ellipse_plot(emb, dx[\"STUDY_PRTCPT_ID\"], 0, 1)"
   ]
  },
  {
   "cell_type": "markdown",
   "id": "42326c31",
   "metadata": {},
   "source": [
    "# CORE\n",
    "\n",
    "Covariance reduction to identify heteroscedasticity."
   ]
  },
  {
   "cell_type": "code",
   "execution_count": null,
   "id": "9690ad1d",
   "metadata": {},
   "outputs": [],
   "source": [
    "tab20 = matplotlib.colormaps[\"tab20\"].colors"
   ]
  },
  {
   "cell_type": "code",
   "execution_count": null,
   "id": "f2cd3853",
   "metadata": {},
   "outputs": [],
   "source": [
    "nobs = dx[\"STUDY_PRTCPT_ID\"].value_counts()\n",
    "nobs = pd.DataFrame({\"STUDY_PRTCPT_ID\": nobs.index, \"nobs\": nobs.values})\n",
    "dy = pd.merge(dx, nobs, left_on=\"STUDY_PRTCPT_ID\", right_on=\"STUDY_PRTCPT_ID\")\n",
    "dy = dy.loc[dy.nobs > 10, :]\n",
    "idx = np.asarray(dy[\"STUDY_PRTCPT_ID\"].astype(str))\n",
    "X = np.asarray(dy[va2])\n",
    "m = CORE(idx, X, 2)\n",
    "r = m.fit(maxiter=1000)\n",
    "qq = pd.DataFrame(r.params, va2, columns=[\"B%d\" % j for j in range(2)])\n",
    "qq"
   ]
  },
  {
   "cell_type": "code",
   "execution_count": null,
   "id": "379f0f65",
   "metadata": {},
   "outputs": [],
   "source": [
    "ellipse_plot(np.dot(X, r.params), dy[\"STUDY_PRTCPT_ID\"], 0, 1)"
   ]
  }
 ],
 "metadata": {
  "kernelspec": {
   "display_name": "Python 3 (ipykernel)",
   "language": "python",
   "name": "python3"
  },
  "language_info": {
   "codemirror_mode": {
    "name": "ipython",
    "version": 3
   },
   "file_extension": ".py",
   "mimetype": "text/x-python",
   "name": "python",
   "nbconvert_exporter": "python",
   "pygments_lexer": "ipython3",
   "version": "3.10.9"
  }
 },
 "nbformat": 4,
 "nbformat_minor": 5
}
